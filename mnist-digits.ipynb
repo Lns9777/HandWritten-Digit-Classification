{
 "cells": [
  {
   "cell_type": "code",
   "execution_count": 1,
   "id": "fa7d1c3d",
   "metadata": {
    "_cell_guid": "b1076dfc-b9ad-4769-8c92-a6c4dae69d19",
    "_uuid": "8f2839f25d086af736a60e9eeb907d3b93b6e0e5",
    "execution": {
     "iopub.execute_input": "2024-02-29T06:10:24.045215Z",
     "iopub.status.busy": "2024-02-29T06:10:24.044858Z",
     "iopub.status.idle": "2024-02-29T06:10:39.912981Z",
     "shell.execute_reply": "2024-02-29T06:10:39.912161Z"
    },
    "papermill": {
     "duration": 15.879793,
     "end_time": "2024-02-29T06:10:39.915577",
     "exception": false,
     "start_time": "2024-02-29T06:10:24.035784",
     "status": "completed"
    },
    "tags": []
   },
   "outputs": [
    {
     "name": "stderr",
     "output_type": "stream",
     "text": [
      "2024-02-29 06:10:27.328953: E external/local_xla/xla/stream_executor/cuda/cuda_dnn.cc:9261] Unable to register cuDNN factory: Attempting to register factory for plugin cuDNN when one has already been registered\n",
      "2024-02-29 06:10:27.329062: E external/local_xla/xla/stream_executor/cuda/cuda_fft.cc:607] Unable to register cuFFT factory: Attempting to register factory for plugin cuFFT when one has already been registered\n",
      "2024-02-29 06:10:27.512014: E external/local_xla/xla/stream_executor/cuda/cuda_blas.cc:1515] Unable to register cuBLAS factory: Attempting to register factory for plugin cuBLAS when one has already been registered\n"
     ]
    }
   ],
   "source": [
    "import pandas as pd\n",
    "import numpy as np\n",
    "import matplotlib.pyplot as plt\n",
    "import tensorflow as tf\n",
    "from tensorflow import keras\n",
    "from keras import Sequential\n",
    "from keras.layers import Dense,Conv2D,MaxPooling2D,Flatten,BatchNormalization,Dropout\n",
    "from tensorflow.keras import models,layers"
   ]
  },
  {
   "cell_type": "code",
   "execution_count": 2,
   "id": "557e661c",
   "metadata": {
    "execution": {
     "iopub.execute_input": "2024-02-29T06:10:39.930925Z",
     "iopub.status.busy": "2024-02-29T06:10:39.930358Z",
     "iopub.status.idle": "2024-02-29T06:10:45.432320Z",
     "shell.execute_reply": "2024-02-29T06:10:45.431440Z"
    },
    "papermill": {
     "duration": 5.512103,
     "end_time": "2024-02-29T06:10:45.434893",
     "exception": false,
     "start_time": "2024-02-29T06:10:39.922790",
     "status": "completed"
    },
    "tags": []
   },
   "outputs": [],
   "source": [
    "train = pd.read_csv('/kaggle/input/digit-recognizer/train.csv')\n",
    "\n",
    "test = pd.read_csv('/kaggle/input/digit-recognizer/test.csv')"
   ]
  },
  {
   "cell_type": "code",
   "execution_count": 3,
   "id": "6eefb96d",
   "metadata": {
    "execution": {
     "iopub.execute_input": "2024-02-29T06:10:45.449851Z",
     "iopub.status.busy": "2024-02-29T06:10:45.449536Z",
     "iopub.status.idle": "2024-02-29T06:10:45.456240Z",
     "shell.execute_reply": "2024-02-29T06:10:45.455397Z"
    },
    "papermill": {
     "duration": 0.016118,
     "end_time": "2024-02-29T06:10:45.458196",
     "exception": false,
     "start_time": "2024-02-29T06:10:45.442078",
     "status": "completed"
    },
    "tags": []
   },
   "outputs": [
    {
     "data": {
      "text/plain": [
       "(42000, 785)"
      ]
     },
     "execution_count": 3,
     "metadata": {},
     "output_type": "execute_result"
    }
   ],
   "source": [
    "train.shape"
   ]
  },
  {
   "cell_type": "code",
   "execution_count": 4,
   "id": "3329556f",
   "metadata": {
    "execution": {
     "iopub.execute_input": "2024-02-29T06:10:45.473498Z",
     "iopub.status.busy": "2024-02-29T06:10:45.473209Z",
     "iopub.status.idle": "2024-02-29T06:10:45.478352Z",
     "shell.execute_reply": "2024-02-29T06:10:45.477578Z"
    },
    "papermill": {
     "duration": 0.015096,
     "end_time": "2024-02-29T06:10:45.480189",
     "exception": false,
     "start_time": "2024-02-29T06:10:45.465093",
     "status": "completed"
    },
    "tags": []
   },
   "outputs": [
    {
     "data": {
      "text/plain": [
       "(28000, 784)"
      ]
     },
     "execution_count": 4,
     "metadata": {},
     "output_type": "execute_result"
    }
   ],
   "source": [
    "test.shape"
   ]
  },
  {
   "cell_type": "code",
   "execution_count": 5,
   "id": "a8970089",
   "metadata": {
    "execution": {
     "iopub.execute_input": "2024-02-29T06:10:45.495144Z",
     "iopub.status.busy": "2024-02-29T06:10:45.494880Z",
     "iopub.status.idle": "2024-02-29T06:10:45.519235Z",
     "shell.execute_reply": "2024-02-29T06:10:45.518278Z"
    },
    "papermill": {
     "duration": 0.034048,
     "end_time": "2024-02-29T06:10:45.521151",
     "exception": false,
     "start_time": "2024-02-29T06:10:45.487103",
     "status": "completed"
    },
    "tags": []
   },
   "outputs": [
    {
     "data": {
      "text/html": [
       "<div>\n",
       "<style scoped>\n",
       "    .dataframe tbody tr th:only-of-type {\n",
       "        vertical-align: middle;\n",
       "    }\n",
       "\n",
       "    .dataframe tbody tr th {\n",
       "        vertical-align: top;\n",
       "    }\n",
       "\n",
       "    .dataframe thead th {\n",
       "        text-align: right;\n",
       "    }\n",
       "</style>\n",
       "<table border=\"1\" class=\"dataframe\">\n",
       "  <thead>\n",
       "    <tr style=\"text-align: right;\">\n",
       "      <th></th>\n",
       "      <th>label</th>\n",
       "      <th>pixel0</th>\n",
       "      <th>pixel1</th>\n",
       "      <th>pixel2</th>\n",
       "      <th>pixel3</th>\n",
       "      <th>pixel4</th>\n",
       "      <th>pixel5</th>\n",
       "      <th>pixel6</th>\n",
       "      <th>pixel7</th>\n",
       "      <th>pixel8</th>\n",
       "      <th>...</th>\n",
       "      <th>pixel774</th>\n",
       "      <th>pixel775</th>\n",
       "      <th>pixel776</th>\n",
       "      <th>pixel777</th>\n",
       "      <th>pixel778</th>\n",
       "      <th>pixel779</th>\n",
       "      <th>pixel780</th>\n",
       "      <th>pixel781</th>\n",
       "      <th>pixel782</th>\n",
       "      <th>pixel783</th>\n",
       "    </tr>\n",
       "  </thead>\n",
       "  <tbody>\n",
       "    <tr>\n",
       "      <th>0</th>\n",
       "      <td>1</td>\n",
       "      <td>0</td>\n",
       "      <td>0</td>\n",
       "      <td>0</td>\n",
       "      <td>0</td>\n",
       "      <td>0</td>\n",
       "      <td>0</td>\n",
       "      <td>0</td>\n",
       "      <td>0</td>\n",
       "      <td>0</td>\n",
       "      <td>...</td>\n",
       "      <td>0</td>\n",
       "      <td>0</td>\n",
       "      <td>0</td>\n",
       "      <td>0</td>\n",
       "      <td>0</td>\n",
       "      <td>0</td>\n",
       "      <td>0</td>\n",
       "      <td>0</td>\n",
       "      <td>0</td>\n",
       "      <td>0</td>\n",
       "    </tr>\n",
       "    <tr>\n",
       "      <th>1</th>\n",
       "      <td>0</td>\n",
       "      <td>0</td>\n",
       "      <td>0</td>\n",
       "      <td>0</td>\n",
       "      <td>0</td>\n",
       "      <td>0</td>\n",
       "      <td>0</td>\n",
       "      <td>0</td>\n",
       "      <td>0</td>\n",
       "      <td>0</td>\n",
       "      <td>...</td>\n",
       "      <td>0</td>\n",
       "      <td>0</td>\n",
       "      <td>0</td>\n",
       "      <td>0</td>\n",
       "      <td>0</td>\n",
       "      <td>0</td>\n",
       "      <td>0</td>\n",
       "      <td>0</td>\n",
       "      <td>0</td>\n",
       "      <td>0</td>\n",
       "    </tr>\n",
       "    <tr>\n",
       "      <th>2</th>\n",
       "      <td>1</td>\n",
       "      <td>0</td>\n",
       "      <td>0</td>\n",
       "      <td>0</td>\n",
       "      <td>0</td>\n",
       "      <td>0</td>\n",
       "      <td>0</td>\n",
       "      <td>0</td>\n",
       "      <td>0</td>\n",
       "      <td>0</td>\n",
       "      <td>...</td>\n",
       "      <td>0</td>\n",
       "      <td>0</td>\n",
       "      <td>0</td>\n",
       "      <td>0</td>\n",
       "      <td>0</td>\n",
       "      <td>0</td>\n",
       "      <td>0</td>\n",
       "      <td>0</td>\n",
       "      <td>0</td>\n",
       "      <td>0</td>\n",
       "    </tr>\n",
       "    <tr>\n",
       "      <th>3</th>\n",
       "      <td>4</td>\n",
       "      <td>0</td>\n",
       "      <td>0</td>\n",
       "      <td>0</td>\n",
       "      <td>0</td>\n",
       "      <td>0</td>\n",
       "      <td>0</td>\n",
       "      <td>0</td>\n",
       "      <td>0</td>\n",
       "      <td>0</td>\n",
       "      <td>...</td>\n",
       "      <td>0</td>\n",
       "      <td>0</td>\n",
       "      <td>0</td>\n",
       "      <td>0</td>\n",
       "      <td>0</td>\n",
       "      <td>0</td>\n",
       "      <td>0</td>\n",
       "      <td>0</td>\n",
       "      <td>0</td>\n",
       "      <td>0</td>\n",
       "    </tr>\n",
       "    <tr>\n",
       "      <th>4</th>\n",
       "      <td>0</td>\n",
       "      <td>0</td>\n",
       "      <td>0</td>\n",
       "      <td>0</td>\n",
       "      <td>0</td>\n",
       "      <td>0</td>\n",
       "      <td>0</td>\n",
       "      <td>0</td>\n",
       "      <td>0</td>\n",
       "      <td>0</td>\n",
       "      <td>...</td>\n",
       "      <td>0</td>\n",
       "      <td>0</td>\n",
       "      <td>0</td>\n",
       "      <td>0</td>\n",
       "      <td>0</td>\n",
       "      <td>0</td>\n",
       "      <td>0</td>\n",
       "      <td>0</td>\n",
       "      <td>0</td>\n",
       "      <td>0</td>\n",
       "    </tr>\n",
       "  </tbody>\n",
       "</table>\n",
       "<p>5 rows × 785 columns</p>\n",
       "</div>"
      ],
      "text/plain": [
       "   label  pixel0  pixel1  pixel2  pixel3  pixel4  pixel5  pixel6  pixel7  \\\n",
       "0      1       0       0       0       0       0       0       0       0   \n",
       "1      0       0       0       0       0       0       0       0       0   \n",
       "2      1       0       0       0       0       0       0       0       0   \n",
       "3      4       0       0       0       0       0       0       0       0   \n",
       "4      0       0       0       0       0       0       0       0       0   \n",
       "\n",
       "   pixel8  ...  pixel774  pixel775  pixel776  pixel777  pixel778  pixel779  \\\n",
       "0       0  ...         0         0         0         0         0         0   \n",
       "1       0  ...         0         0         0         0         0         0   \n",
       "2       0  ...         0         0         0         0         0         0   \n",
       "3       0  ...         0         0         0         0         0         0   \n",
       "4       0  ...         0         0         0         0         0         0   \n",
       "\n",
       "   pixel780  pixel781  pixel782  pixel783  \n",
       "0         0         0         0         0  \n",
       "1         0         0         0         0  \n",
       "2         0         0         0         0  \n",
       "3         0         0         0         0  \n",
       "4         0         0         0         0  \n",
       "\n",
       "[5 rows x 785 columns]"
      ]
     },
     "execution_count": 5,
     "metadata": {},
     "output_type": "execute_result"
    }
   ],
   "source": [
    "train.head()"
   ]
  },
  {
   "cell_type": "code",
   "execution_count": 6,
   "id": "90929010",
   "metadata": {
    "execution": {
     "iopub.execute_input": "2024-02-29T06:10:45.538256Z",
     "iopub.status.busy": "2024-02-29T06:10:45.537982Z",
     "iopub.status.idle": "2024-02-29T06:10:45.543420Z",
     "shell.execute_reply": "2024-02-29T06:10:45.542570Z"
    },
    "papermill": {
     "duration": 0.016874,
     "end_time": "2024-02-29T06:10:45.545484",
     "exception": false,
     "start_time": "2024-02-29T06:10:45.528610",
     "status": "completed"
    },
    "tags": []
   },
   "outputs": [],
   "source": [
    "y = train['label']\n",
    "y = y.to_numpy()"
   ]
  },
  {
   "cell_type": "code",
   "execution_count": 7,
   "id": "c08b1851",
   "metadata": {
    "execution": {
     "iopub.execute_input": "2024-02-29T06:10:45.562175Z",
     "iopub.status.busy": "2024-02-29T06:10:45.561897Z",
     "iopub.status.idle": "2024-02-29T06:10:45.567717Z",
     "shell.execute_reply": "2024-02-29T06:10:45.566828Z"
    },
    "papermill": {
     "duration": 0.016425,
     "end_time": "2024-02-29T06:10:45.569932",
     "exception": false,
     "start_time": "2024-02-29T06:10:45.553507",
     "status": "completed"
    },
    "tags": []
   },
   "outputs": [
    {
     "data": {
      "text/plain": [
       "array([1, 0, 1, ..., 7, 6, 9])"
      ]
     },
     "execution_count": 7,
     "metadata": {},
     "output_type": "execute_result"
    }
   ],
   "source": [
    "y"
   ]
  },
  {
   "cell_type": "code",
   "execution_count": 8,
   "id": "3d50f99b",
   "metadata": {
    "execution": {
     "iopub.execute_input": "2024-02-29T06:10:45.586956Z",
     "iopub.status.busy": "2024-02-29T06:10:45.586686Z",
     "iopub.status.idle": "2024-02-29T06:10:45.675480Z",
     "shell.execute_reply": "2024-02-29T06:10:45.674436Z"
    },
    "papermill": {
     "duration": 0.099879,
     "end_time": "2024-02-29T06:10:45.678076",
     "exception": false,
     "start_time": "2024-02-29T06:10:45.578197",
     "status": "completed"
    },
    "tags": []
   },
   "outputs": [],
   "source": [
    "new_train = train.drop(\"label\",inplace = True,axis=1)"
   ]
  },
  {
   "cell_type": "code",
   "execution_count": 9,
   "id": "779d869d",
   "metadata": {
    "execution": {
     "iopub.execute_input": "2024-02-29T06:10:45.696534Z",
     "iopub.status.busy": "2024-02-29T06:10:45.695635Z",
     "iopub.status.idle": "2024-02-29T06:10:45.713660Z",
     "shell.execute_reply": "2024-02-29T06:10:45.712683Z"
    },
    "papermill": {
     "duration": 0.02992,
     "end_time": "2024-02-29T06:10:45.716493",
     "exception": false,
     "start_time": "2024-02-29T06:10:45.686573",
     "status": "completed"
    },
    "tags": []
   },
   "outputs": [
    {
     "data": {
      "text/html": [
       "<div>\n",
       "<style scoped>\n",
       "    .dataframe tbody tr th:only-of-type {\n",
       "        vertical-align: middle;\n",
       "    }\n",
       "\n",
       "    .dataframe tbody tr th {\n",
       "        vertical-align: top;\n",
       "    }\n",
       "\n",
       "    .dataframe thead th {\n",
       "        text-align: right;\n",
       "    }\n",
       "</style>\n",
       "<table border=\"1\" class=\"dataframe\">\n",
       "  <thead>\n",
       "    <tr style=\"text-align: right;\">\n",
       "      <th></th>\n",
       "      <th>pixel0</th>\n",
       "      <th>pixel1</th>\n",
       "      <th>pixel2</th>\n",
       "      <th>pixel3</th>\n",
       "      <th>pixel4</th>\n",
       "      <th>pixel5</th>\n",
       "      <th>pixel6</th>\n",
       "      <th>pixel7</th>\n",
       "      <th>pixel8</th>\n",
       "      <th>pixel9</th>\n",
       "      <th>...</th>\n",
       "      <th>pixel774</th>\n",
       "      <th>pixel775</th>\n",
       "      <th>pixel776</th>\n",
       "      <th>pixel777</th>\n",
       "      <th>pixel778</th>\n",
       "      <th>pixel779</th>\n",
       "      <th>pixel780</th>\n",
       "      <th>pixel781</th>\n",
       "      <th>pixel782</th>\n",
       "      <th>pixel783</th>\n",
       "    </tr>\n",
       "  </thead>\n",
       "  <tbody>\n",
       "    <tr>\n",
       "      <th>0</th>\n",
       "      <td>0</td>\n",
       "      <td>0</td>\n",
       "      <td>0</td>\n",
       "      <td>0</td>\n",
       "      <td>0</td>\n",
       "      <td>0</td>\n",
       "      <td>0</td>\n",
       "      <td>0</td>\n",
       "      <td>0</td>\n",
       "      <td>0</td>\n",
       "      <td>...</td>\n",
       "      <td>0</td>\n",
       "      <td>0</td>\n",
       "      <td>0</td>\n",
       "      <td>0</td>\n",
       "      <td>0</td>\n",
       "      <td>0</td>\n",
       "      <td>0</td>\n",
       "      <td>0</td>\n",
       "      <td>0</td>\n",
       "      <td>0</td>\n",
       "    </tr>\n",
       "    <tr>\n",
       "      <th>1</th>\n",
       "      <td>0</td>\n",
       "      <td>0</td>\n",
       "      <td>0</td>\n",
       "      <td>0</td>\n",
       "      <td>0</td>\n",
       "      <td>0</td>\n",
       "      <td>0</td>\n",
       "      <td>0</td>\n",
       "      <td>0</td>\n",
       "      <td>0</td>\n",
       "      <td>...</td>\n",
       "      <td>0</td>\n",
       "      <td>0</td>\n",
       "      <td>0</td>\n",
       "      <td>0</td>\n",
       "      <td>0</td>\n",
       "      <td>0</td>\n",
       "      <td>0</td>\n",
       "      <td>0</td>\n",
       "      <td>0</td>\n",
       "      <td>0</td>\n",
       "    </tr>\n",
       "    <tr>\n",
       "      <th>2</th>\n",
       "      <td>0</td>\n",
       "      <td>0</td>\n",
       "      <td>0</td>\n",
       "      <td>0</td>\n",
       "      <td>0</td>\n",
       "      <td>0</td>\n",
       "      <td>0</td>\n",
       "      <td>0</td>\n",
       "      <td>0</td>\n",
       "      <td>0</td>\n",
       "      <td>...</td>\n",
       "      <td>0</td>\n",
       "      <td>0</td>\n",
       "      <td>0</td>\n",
       "      <td>0</td>\n",
       "      <td>0</td>\n",
       "      <td>0</td>\n",
       "      <td>0</td>\n",
       "      <td>0</td>\n",
       "      <td>0</td>\n",
       "      <td>0</td>\n",
       "    </tr>\n",
       "    <tr>\n",
       "      <th>3</th>\n",
       "      <td>0</td>\n",
       "      <td>0</td>\n",
       "      <td>0</td>\n",
       "      <td>0</td>\n",
       "      <td>0</td>\n",
       "      <td>0</td>\n",
       "      <td>0</td>\n",
       "      <td>0</td>\n",
       "      <td>0</td>\n",
       "      <td>0</td>\n",
       "      <td>...</td>\n",
       "      <td>0</td>\n",
       "      <td>0</td>\n",
       "      <td>0</td>\n",
       "      <td>0</td>\n",
       "      <td>0</td>\n",
       "      <td>0</td>\n",
       "      <td>0</td>\n",
       "      <td>0</td>\n",
       "      <td>0</td>\n",
       "      <td>0</td>\n",
       "    </tr>\n",
       "    <tr>\n",
       "      <th>4</th>\n",
       "      <td>0</td>\n",
       "      <td>0</td>\n",
       "      <td>0</td>\n",
       "      <td>0</td>\n",
       "      <td>0</td>\n",
       "      <td>0</td>\n",
       "      <td>0</td>\n",
       "      <td>0</td>\n",
       "      <td>0</td>\n",
       "      <td>0</td>\n",
       "      <td>...</td>\n",
       "      <td>0</td>\n",
       "      <td>0</td>\n",
       "      <td>0</td>\n",
       "      <td>0</td>\n",
       "      <td>0</td>\n",
       "      <td>0</td>\n",
       "      <td>0</td>\n",
       "      <td>0</td>\n",
       "      <td>0</td>\n",
       "      <td>0</td>\n",
       "    </tr>\n",
       "  </tbody>\n",
       "</table>\n",
       "<p>5 rows × 784 columns</p>\n",
       "</div>"
      ],
      "text/plain": [
       "   pixel0  pixel1  pixel2  pixel3  pixel4  pixel5  pixel6  pixel7  pixel8  \\\n",
       "0       0       0       0       0       0       0       0       0       0   \n",
       "1       0       0       0       0       0       0       0       0       0   \n",
       "2       0       0       0       0       0       0       0       0       0   \n",
       "3       0       0       0       0       0       0       0       0       0   \n",
       "4       0       0       0       0       0       0       0       0       0   \n",
       "\n",
       "   pixel9  ...  pixel774  pixel775  pixel776  pixel777  pixel778  pixel779  \\\n",
       "0       0  ...         0         0         0         0         0         0   \n",
       "1       0  ...         0         0         0         0         0         0   \n",
       "2       0  ...         0         0         0         0         0         0   \n",
       "3       0  ...         0         0         0         0         0         0   \n",
       "4       0  ...         0         0         0         0         0         0   \n",
       "\n",
       "   pixel780  pixel781  pixel782  pixel783  \n",
       "0         0         0         0         0  \n",
       "1         0         0         0         0  \n",
       "2         0         0         0         0  \n",
       "3         0         0         0         0  \n",
       "4         0         0         0         0  \n",
       "\n",
       "[5 rows x 784 columns]"
      ]
     },
     "execution_count": 9,
     "metadata": {},
     "output_type": "execute_result"
    }
   ],
   "source": [
    "train.head()"
   ]
  },
  {
   "cell_type": "code",
   "execution_count": 10,
   "id": "3cee2fdf",
   "metadata": {
    "execution": {
     "iopub.execute_input": "2024-02-29T06:10:45.735084Z",
     "iopub.status.busy": "2024-02-29T06:10:45.734787Z",
     "iopub.status.idle": "2024-02-29T06:10:45.959379Z",
     "shell.execute_reply": "2024-02-29T06:10:45.958481Z"
    },
    "papermill": {
     "duration": 0.235584,
     "end_time": "2024-02-29T06:10:45.961374",
     "exception": false,
     "start_time": "2024-02-29T06:10:45.725790",
     "status": "completed"
    },
    "tags": []
   },
   "outputs": [
    {
     "data": {
      "text/plain": [
       "<matplotlib.image.AxesImage at 0x7ea6489c8f10>"
      ]
     },
     "execution_count": 10,
     "metadata": {},
     "output_type": "execute_result"
    },
    {
     "data": {
      "image/png": "[encoded data removed]",
      "text/plain": [
       "<Figure size 640x480 with 1 Axes>"
      ]
     },
     "metadata": {},
     "output_type": "display_data"
    }
   ],
   "source": [
    "sample = np.reshape(train.iloc[1,:].values,(28,28))\n",
    "plt.imshow(sample)"
   ]
  },
  {
   "cell_type": "code",
   "execution_count": 11,
   "id": "85635cb0",
   "metadata": {
    "execution": {
     "iopub.execute_input": "2024-02-29T06:10:45.979362Z",
     "iopub.status.busy": "2024-02-29T06:10:45.979039Z",
     "iopub.status.idle": "2024-02-29T06:10:47.709063Z",
     "shell.execute_reply": "2024-02-29T06:10:47.708162Z"
    },
    "papermill": {
     "duration": 1.741796,
     "end_time": "2024-02-29T06:10:47.711503",
     "exception": false,
     "start_time": "2024-02-29T06:10:45.969707",
     "status": "completed"
    },
    "tags": []
   },
   "outputs": [
    {
     "name": "stdout",
     "output_type": "stream",
     "text": [
      "(42000, 28, 28)\n",
      "(28000, 28, 28)\n",
      "(42000, 28, 28, 1)\n",
      "(28000, 28, 28, 1)\n",
      "No of data train: 37800\n",
      "No of data val: 4200\n",
      "No of data test: 28000\n"
     ]
    }
   ],
   "source": [
    "X = train.values.reshape((len(train), 28, 28))\n",
    "X_test =test.values.reshape(len(test), 28, 28)\n",
    "\n",
    "X = X / 255.0\n",
    "X_test = X_test / 255.0\n",
    "\n",
    "# Previous expand dim\n",
    "print(X.shape)\n",
    "print(X_test.shape)\n",
    "\n",
    "# Expand dim\n",
    "X = np.expand_dims(X, axis=-1)\n",
    "X_test = np.expand_dims(X_test, axis=-1)\n",
    "\n",
    "# After expand dim\n",
    "print(X.shape)\n",
    "print(X_test.shape)\n",
    "\n",
    "import sklearn\n",
    "from sklearn.model_selection import train_test_split\n",
    "X_train, X_val, y_train, y_val = train_test_split(X, y, train_size=0.9, random_state=42)\n",
    "\n",
    "print(f\"No of data train: {X_train.shape[0]}\")\n",
    "print(f\"No of data val: {X_val.shape[0]}\")\n",
    "print(f\"No of data test: {X_test.shape[0]}\")"
   ]
  },
  {
   "cell_type": "code",
   "execution_count": 12,
   "id": "d38fb1e0",
   "metadata": {
    "execution": {
     "iopub.execute_input": "2024-02-29T06:10:47.731344Z",
     "iopub.status.busy": "2024-02-29T06:10:47.730710Z",
     "iopub.status.idle": "2024-02-29T06:10:47.736825Z",
     "shell.execute_reply": "2024-02-29T06:10:47.735858Z"
    },
    "papermill": {
     "duration": 0.018805,
     "end_time": "2024-02-29T06:10:47.739246",
     "exception": false,
     "start_time": "2024-02-29T06:10:47.720441",
     "status": "completed"
    },
    "tags": []
   },
   "outputs": [
    {
     "name": "stdout",
     "output_type": "stream",
     "text": [
      "(37800, 28, 28, 1)\n",
      "(4200, 28, 28, 1)\n",
      "(37800,)\n",
      "(4200,)\n",
      "<class 'numpy.ndarray'>\n",
      "<class 'numpy.ndarray'>\n"
     ]
    }
   ],
   "source": [
    "print(X_train.shape)\n",
    "print(X_val.shape)\n",
    "print(y_train.shape)\n",
    "print(y_val.shape)\n",
    "\n",
    "print(type(X_train))\n",
    "print(type(y_train))"
   ]
  },
  {
   "cell_type": "code",
   "execution_count": 13,
   "id": "cd48df36",
   "metadata": {
    "execution": {
     "iopub.execute_input": "2024-02-29T06:10:47.758585Z",
     "iopub.status.busy": "2024-02-29T06:10:47.758265Z",
     "iopub.status.idle": "2024-02-29T06:10:48.831771Z",
     "shell.execute_reply": "2024-02-29T06:10:48.830895Z"
    },
    "papermill": {
     "duration": 1.085734,
     "end_time": "2024-02-29T06:10:48.834088",
     "exception": false,
     "start_time": "2024-02-29T06:10:47.748354",
     "status": "completed"
    },
    "tags": []
   },
   "outputs": [],
   "source": [
    "model = models.Sequential([\n",
    "    layers.Conv2D(filters=32,kernel_size=(3,3),padding='same',activation='relu',input_shape=(28,28,1)),\n",
    "    layers.MaxPool2D(pool_size=(2,2),strides=(2,2)),\n",
    "    layers.Dropout(0.25),\n",
    "        \n",
    "    layers.Conv2D(filters=64,kernel_size=(3,3),padding='same',activation='relu',input_shape=(28,28,1)),\n",
    "    layers.MaxPool2D(pool_size=(2,2),strides=(2,2)),\n",
    "    layers.Dropout(0.25),\n",
    "    \n",
    "    layers.Conv2D(filters=128,kernel_size=(3,3),padding='same',activation='relu',input_shape=(28,28,1)),\n",
    "    layers.MaxPool2D(pool_size=(2,2),strides=(2,2)),\n",
    "    layers.Dropout(0.25),\n",
    "    \n",
    "    layers.Conv2D(filters=256,kernel_size=(3,3),padding='same',activation='relu',input_shape=(28,28,1)),\n",
    "    layers.MaxPool2D(pool_size=(2,2),strides=(2,2)),\n",
    "    layers.Dropout(0.25),\n",
    "    \n",
    "    layers.Flatten(),\n",
    "    layers.Dense(64,activation='relu'),\n",
    "    layers.Dense(128,activation='relu'),\n",
    "    layers.Dense(256,activation='relu'),\n",
    "    \n",
    "    layers.Dense(10,activation='softmax')\n",
    "])\n"
   ]
  },
  {
   "cell_type": "code",
   "execution_count": 14,
   "id": "cebb6b3f",
   "metadata": {
    "execution": {
     "iopub.execute_input": "2024-02-29T06:10:48.854024Z",
     "iopub.status.busy": "2024-02-29T06:10:48.853108Z",
     "iopub.status.idle": "2024-02-29T06:10:48.900028Z",
     "shell.execute_reply": "2024-02-29T06:10:48.899104Z"
    },
    "papermill": {
     "duration": 0.071561,
     "end_time": "2024-02-29T06:10:48.914816",
     "exception": false,
     "start_time": "2024-02-29T06:10:48.843255",
     "status": "completed"
    },
    "tags": []
   },
   "outputs": [
    {
     "name": "stdout",
     "output_type": "stream",
     "text": [
      "Model: \"sequential\"\n",
      "_________________________________________________________________\n",
      " Layer (type)                Output Shape              Param #   \n",
      "=================================================================\n",
      " conv2d (Conv2D)             (None, 28, 28, 32)        320       \n",
      "                                                                 \n",
      " max_pooling2d (MaxPooling2  (None, 14, 14, 32)        0         \n",
      " D)                                                              \n",
      "                                                                 \n",
      " dropout (Dropout)           (None, 14, 14, 32)        0         \n",
      "                                                                 \n",
      " conv2d_1 (Conv2D)           (None, 14, 14, 64)        18496     \n",
      "                                                                 \n",
      " max_pooling2d_1 (MaxPoolin  (None, 7, 7, 64)          0         \n",
      " g2D)                                                            \n",
      "                                                                 \n",
      " dropout_1 (Dropout)         (None, 7, 7, 64)          0         \n",
      "                                                                 \n",
      " conv2d_2 (Conv2D)           (None, 7, 7, 128)         73856     \n",
      "                                                                 \n",
      " max_pooling2d_2 (MaxPoolin  (None, 3, 3, 128)         0         \n",
      " g2D)                                                            \n",
      "                                                                 \n",
      " dropout_2 (Dropout)         (None, 3, 3, 128)         0         \n",
      "                                                                 \n",
      " conv2d_3 (Conv2D)           (None, 3, 3, 256)         295168    \n",
      "                                                                 \n",
      " max_pooling2d_3 (MaxPoolin  (None, 1, 1, 256)         0         \n",
      " g2D)                                                            \n",
      "                                                                 \n",
      " dropout_3 (Dropout)         (None, 1, 1, 256)         0         \n",
      "                                                                 \n",
      " flatten (Flatten)           (None, 256)               0         \n",
      "                                                                 \n",
      " dense (Dense)               (None, 64)                16448     \n",
      "                                                                 \n",
      " dense_1 (Dense)             (None, 128)               8320      \n",
      "                                                                 \n",
      " dense_2 (Dense)             (None, 256)               33024     \n",
      "                                                                 \n",
      " dense_3 (Dense)             (None, 10)                2570      \n",
      "                                                                 \n",
      "=================================================================\n",
      "Total params: 448202 (1.71 MB)\n",
      "Trainable params: 448202 (1.71 MB)\n",
      "Non-trainable params: 0 (0.00 Byte)\n",
      "_________________________________________________________________\n"
     ]
    }
   ],
   "source": [
    "model.summary()"
   ]
  },
  {
   "cell_type": "code",
   "execution_count": 15,
   "id": "51028282",
   "metadata": {
    "execution": {
     "iopub.execute_input": "2024-02-29T06:10:48.940929Z",
     "iopub.status.busy": "2024-02-29T06:10:48.940400Z",
     "iopub.status.idle": "2024-02-29T06:10:48.959960Z",
     "shell.execute_reply": "2024-02-29T06:10:48.959021Z"
    },
    "papermill": {
     "duration": 0.034866,
     "end_time": "2024-02-29T06:10:48.961925",
     "exception": false,
     "start_time": "2024-02-29T06:10:48.927059",
     "status": "completed"
    },
    "tags": []
   },
   "outputs": [],
   "source": [
    "model.compile(optimizer='adam',\n",
    "              loss = \"sparse_categorical_crossentropy\",\n",
    "              metrics = ['acc']\n",
    "             )"
   ]
  },
  {
   "cell_type": "code",
   "execution_count": 16,
   "id": "058a7e04",
   "metadata": {
    "execution": {
     "iopub.execute_input": "2024-02-29T06:10:48.987978Z",
     "iopub.status.busy": "2024-02-29T06:10:48.987248Z",
     "iopub.status.idle": "2024-02-29T06:10:48.991479Z",
     "shell.execute_reply": "2024-02-29T06:10:48.990724Z"
    },
    "papermill": {
     "duration": 0.018937,
     "end_time": "2024-02-29T06:10:48.993467",
     "exception": false,
     "start_time": "2024-02-29T06:10:48.974530",
     "status": "completed"
    },
    "tags": []
   },
   "outputs": [],
   "source": [
    "callbacks = tf.keras.callbacks.ReduceLROnPlateau(monitor=\"val_acc\", factor=0.5, patience=5, min_lr=1e-3)"
   ]
  },
  {
   "cell_type": "code",
   "execution_count": 17,
   "id": "c89e8371",
   "metadata": {
    "execution": {
     "iopub.execute_input": "2024-02-29T06:10:49.018267Z",
     "iopub.status.busy": "2024-02-29T06:10:49.018022Z",
     "iopub.status.idle": "2024-02-29T06:13:06.252005Z",
     "shell.execute_reply": "2024-02-29T06:13:06.250926Z"
    },
    "papermill": {
     "duration": 137.248879,
     "end_time": "2024-02-29T06:13:06.254247",
     "exception": false,
     "start_time": "2024-02-29T06:10:49.005368",
     "status": "completed"
    },
    "tags": []
   },
   "outputs": [
    {
     "name": "stdout",
     "output_type": "stream",
     "text": [
      "Epoch 1/20\n"
     ]
    },
    {
     "name": "stderr",
     "output_type": "stream",
     "text": [
      "2024-02-29 06:10:50.795254: E tensorflow/core/grappler/optimizers/meta_optimizer.cc:961] layout failed: INVALID_ARGUMENT: Size of values 0 does not match size of permutation 4 @ fanin shape insequential/dropout/dropout/SelectV2-2-TransposeNHWCToNCHW-LayoutOptimizer\n",
      "WARNING: All log messages before absl::InitializeLog() is called are written to STDERR\n",
      "I0000 00:00:1709187054.080553      71 device_compiler.h:186] Compiled cluster using XLA!  This line is logged at most once for the lifetime of the process.\n"
     ]
    },
    {
     "name": "stdout",
     "output_type": "stream",
     "text": [
      "1182/1182 [==============================] - 14s 6ms/step - loss: 0.3311 - acc: 0.8902 - val_loss: 0.0794 - val_acc: 0.9774 - lr: 0.0010\n",
      "Epoch 2/20\n",
      "1182/1182 [==============================] - 6s 5ms/step - loss: 0.0989 - acc: 0.9704 - val_loss: 0.0481 - val_acc: 0.9879 - lr: 0.0010\n",
      "Epoch 3/20\n",
      "1182/1182 [==============================] - 6s 5ms/step - loss: 0.0767 - acc: 0.9783 - val_loss: 0.0492 - val_acc: 0.9852 - lr: 0.0010\n",
      "Epoch 4/20\n",
      "1182/1182 [==============================] - 7s 6ms/step - loss: 0.0667 - acc: 0.9804 - val_loss: 0.0386 - val_acc: 0.9900 - lr: 0.0010\n",
      "Epoch 5/20\n",
      "1182/1182 [==============================] - 6s 5ms/step - loss: 0.0617 - acc: 0.9821 - val_loss: 0.0374 - val_acc: 0.9895 - lr: 0.0010\n",
      "Epoch 6/20\n",
      "1182/1182 [==============================] - 6s 5ms/step - loss: 0.0546 - acc: 0.9844 - val_loss: 0.0385 - val_acc: 0.9876 - lr: 0.0010\n",
      "Epoch 7/20\n",
      "1182/1182 [==============================] - 6s 5ms/step - loss: 0.0474 - acc: 0.9862 - val_loss: 0.0445 - val_acc: 0.9879 - lr: 0.0010\n",
      "Epoch 8/20\n",
      "1182/1182 [==============================] - 6s 5ms/step - loss: 0.0457 - acc: 0.9861 - val_loss: 0.0301 - val_acc: 0.9912 - lr: 0.0010\n",
      "Epoch 9/20\n",
      "1182/1182 [==============================] - 7s 6ms/step - loss: 0.0446 - acc: 0.9870 - val_loss: 0.0401 - val_acc: 0.9890 - lr: 0.0010\n",
      "Epoch 10/20\n",
      "1182/1182 [==============================] - 6s 5ms/step - loss: 0.0415 - acc: 0.9881 - val_loss: 0.0300 - val_acc: 0.9910 - lr: 0.0010\n",
      "Epoch 11/20\n",
      "1182/1182 [==============================] - 6s 5ms/step - loss: 0.0372 - acc: 0.9887 - val_loss: 0.0368 - val_acc: 0.9907 - lr: 0.0010\n",
      "Epoch 12/20\n",
      "1182/1182 [==============================] - 6s 5ms/step - loss: 0.0396 - acc: 0.9890 - val_loss: 0.0358 - val_acc: 0.9917 - lr: 0.0010\n",
      "Epoch 13/20\n",
      "1182/1182 [==============================] - 7s 6ms/step - loss: 0.0322 - acc: 0.9906 - val_loss: 0.0305 - val_acc: 0.9910 - lr: 0.0010\n",
      "Epoch 14/20\n",
      "1182/1182 [==============================] - 7s 6ms/step - loss: 0.0371 - acc: 0.9897 - val_loss: 0.0351 - val_acc: 0.9929 - lr: 0.0010\n",
      "Epoch 15/20\n",
      "1182/1182 [==============================] - 6s 5ms/step - loss: 0.0360 - acc: 0.9912 - val_loss: 0.0361 - val_acc: 0.9921 - lr: 0.0010\n",
      "Epoch 16/20\n",
      "1182/1182 [==============================] - 6s 5ms/step - loss: 0.0335 - acc: 0.9906 - val_loss: 0.0321 - val_acc: 0.9924 - lr: 0.0010\n",
      "Epoch 17/20\n",
      "1182/1182 [==============================] - 6s 5ms/step - loss: 0.0332 - acc: 0.9908 - val_loss: 0.0285 - val_acc: 0.9926 - lr: 0.0010\n",
      "Epoch 18/20\n",
      "1182/1182 [==============================] - 6s 5ms/step - loss: 0.0290 - acc: 0.9913 - val_loss: 0.0278 - val_acc: 0.9926 - lr: 0.0010\n",
      "Epoch 19/20\n",
      "1182/1182 [==============================] - 7s 6ms/step - loss: 0.0282 - acc: 0.9923 - val_loss: 0.0267 - val_acc: 0.9933 - lr: 0.0010\n",
      "Epoch 20/20\n",
      "1182/1182 [==============================] - 6s 5ms/step - loss: 0.0344 - acc: 0.9907 - val_loss: 0.0416 - val_acc: 0.9905 - lr: 0.0010\n"
     ]
    }
   ],
   "source": [
    "history = model.fit(X_train,y_train,validation_data = (X_val, y_val), epochs=20, callbacks=[callbacks])"
   ]
  },
  {
   "cell_type": "code",
   "execution_count": 18,
   "id": "6b859677",
   "metadata": {
    "execution": {
     "iopub.execute_input": "2024-02-29T06:13:06.720499Z",
     "iopub.status.busy": "2024-02-29T06:13:06.719547Z",
     "iopub.status.idle": "2024-02-29T06:13:07.222714Z",
     "shell.execute_reply": "2024-02-29T06:13:07.221713Z"
    },
    "papermill": {
     "duration": 0.745063,
     "end_time": "2024-02-29T06:13:07.224723",
     "exception": false,
     "start_time": "2024-02-29T06:13:06.479660",
     "status": "completed"
    },
    "tags": []
   },
   "outputs": [
    {
     "data": {
      "image/png": "[encoded data removed]",
      "text/plain": [
       "<Figure size 640x480 with 1 Axes>"
      ]
     },
     "metadata": {},
     "output_type": "display_data"
    },
    {
     "data": {
      "text/plain": [
       "<function matplotlib.pyplot.show(close=None, block=None)>"
      ]
     },
     "execution_count": 18,
     "metadata": {},
     "output_type": "execute_result"
    },
    {
     "data": {
      "image/png": "[encoded data removed]",
      "text/plain": [
       "<Figure size 640x480 with 1 Axes>"
      ]
     },
     "metadata": {},
     "output_type": "display_data"
    }
   ],
   "source": [
    "plt.plot(history.history['acc'])\n",
    "plt.plot(history.history['val_acc'])\n",
    "plt.title('model accuracy')\n",
    "plt.ylabel('accuracy')\n",
    "plt.xlabel('epoch')\n",
    "plt.legend(['train', 'val'], loc='upper left')\n",
    "plt.show()\n",
    "\n",
    "plt.plot(history.history['loss'])\n",
    "plt.plot(history.history['val_loss'])\n",
    "plt.title('model loss')\n",
    "plt.ylabel('loss')\n",
    "plt.xlabel('epoch')\n",
    "plt.legend(['train', 'val'], loc='upper left')\n",
    "plt.show"
   ]
  },
  {
   "cell_type": "code",
   "execution_count": 19,
   "id": "d260c457",
   "metadata": {
    "execution": {
     "iopub.execute_input": "2024-02-29T06:13:07.666439Z",
     "iopub.status.busy": "2024-02-29T06:13:07.666045Z",
     "iopub.status.idle": "2024-02-29T06:13:11.172955Z",
     "shell.execute_reply": "2024-02-29T06:13:11.171379Z"
    },
    "papermill": {
     "duration": 3.728117,
     "end_time": "2024-02-29T06:13:11.175235",
     "exception": false,
     "start_time": "2024-02-29T06:13:07.447118",
     "status": "completed"
    },
    "tags": []
   },
   "outputs": [
    {
     "name": "stdout",
     "output_type": "stream",
     "text": [
      "1182/1182 [==============================] - 2s 2ms/step\n",
      "[8 5 6 ... 2 6 0]\n"
     ]
    }
   ],
   "source": [
    "prediction = model.predict(X_train)\n",
    "\n",
    "preds = np.argmax(prediction, axis=1)\n",
    "\n",
    "print(preds)"
   ]
  },
  {
   "cell_type": "code",
   "execution_count": 20,
   "id": "7da1eee5",
   "metadata": {
    "execution": {
     "iopub.execute_input": "2024-02-29T06:13:11.608282Z",
     "iopub.status.busy": "2024-02-29T06:13:11.607904Z",
     "iopub.status.idle": "2024-02-29T06:13:11.814959Z",
     "shell.execute_reply": "2024-02-29T06:13:11.814049Z"
    },
    "papermill": {
     "duration": 0.421975,
     "end_time": "2024-02-29T06:13:11.817181",
     "exception": false,
     "start_time": "2024-02-29T06:13:11.395206",
     "status": "completed"
    },
    "tags": []
   },
   "outputs": [
    {
     "name": "stdout",
     "output_type": "stream",
     "text": [
      "predicted label: [0]\n"
     ]
    },
    {
     "data": {
      "image/png": "[encoded data removed]",
      "text/plain": [
       "<Figure size 640x480 with 1 Axes>"
      ]
     },
     "metadata": {},
     "output_type": "display_data"
    }
   ],
   "source": [
    "\n",
    "first_image = (X_train[75])\n",
    "# first_label = y[775]\n",
    "# # print(first_image)\n",
    "# # print(first_label)\n",
    "# print(\"First image to Predict\")\n",
    "plt.imshow(first_image)\n",
    "# print('actual label:',[first_label])\n",
    "    \n",
    "print(\"predicted label:\",[np.argmax(prediction[75])])"
   ]
  },
  {
   "cell_type": "code",
   "execution_count": 21,
   "id": "64f1db45",
   "metadata": {
    "execution": {
     "iopub.execute_input": "2024-02-29T06:13:12.253744Z",
     "iopub.status.busy": "2024-02-29T06:13:12.253363Z",
     "iopub.status.idle": "2024-02-29T06:13:12.257609Z",
     "shell.execute_reply": "2024-02-29T06:13:12.256718Z"
    },
    "papermill": {
     "duration": 0.222358,
     "end_time": "2024-02-29T06:13:12.259504",
     "exception": false,
     "start_time": "2024-02-29T06:13:12.037146",
     "status": "completed"
    },
    "tags": []
   },
   "outputs": [],
   "source": [
    "import pickle"
   ]
  },
  {
   "cell_type": "code",
   "execution_count": 22,
   "id": "fb4b9eb4",
   "metadata": {
    "execution": {
     "iopub.execute_input": "2024-02-29T06:13:12.697743Z",
     "iopub.status.busy": "2024-02-29T06:13:12.697342Z",
     "iopub.status.idle": "2024-02-29T06:13:12.807703Z",
     "shell.execute_reply": "2024-02-29T06:13:12.806647Z"
    },
    "papermill": {
     "duration": 0.329876,
     "end_time": "2024-02-29T06:13:12.810280",
     "exception": false,
     "start_time": "2024-02-29T06:13:12.480404",
     "status": "completed"
    },
    "tags": []
   },
   "outputs": [],
   "source": [
    "pickle.dump(model,open('model.pkl','wb'))"
   ]
  },
  {
   "cell_type": "code",
   "execution_count": null,
   "id": "2228e879",
   "metadata": {
    "papermill": {
     "duration": 0.218627,
     "end_time": "2024-02-29T06:13:13.242446",
     "exception": false,
     "start_time": "2024-02-29T06:13:13.023819",
     "status": "completed"
    },
    "tags": []
   },
   "outputs": [],
   "source": []
  }
 ],
 "metadata": {
  "kaggle": {
   "accelerator": "nvidiaTeslaT4",
   "dataSources": [
    {
     "databundleVersionId": 861823,
     "sourceId": 3004,
     "sourceType": "competition"
    }
   ],
   "dockerImageVersionId": 30646,
   "isGpuEnabled": true,
   "isInternetEnabled": true,
   "language": "python",
   "sourceType": "notebook"
  },
  "kernelspec": {
   "display_name": "Python 3",
   "language": "python",
   "name": "python3"
  },
  "language_info": {
   "codemirror_mode": {
    "name": "ipython",
    "version": 3
   },
   "file_extension": ".py",
   "mimetype": "text/x-python",
   "name": "python",
   "nbconvert_exporter": "python",
   "pygments_lexer": "ipython3",
   "version": "3.10.13"
  },
  "papermill": {
   "default_parameters": {},
   "duration": 175.574756,
   "end_time": "2024-02-29T06:13:16.426371",
   "environment_variables": {},
   "exception": null,
   "input_path": "__notebook__.ipynb",
   "output_path": "__notebook__.ipynb",
   "parameters": {},
   "start_time": "2024-02-29T06:10:20.851615",
   "version": "2.5.0"
  }
 },
 "nbformat": 4,
 "nbformat_minor": 5
}
